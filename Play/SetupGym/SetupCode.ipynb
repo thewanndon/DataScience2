{
 "cells": [
  {
   "cell_type": "code",
   "execution_count": 1,
   "id": "553bd135",
   "metadata": {},
   "outputs": [
    {
     "name": "stdout",
     "output_type": "stream",
     "text": [
      "Collecting gymnasium\n",
      "  Obtaining dependency information for gymnasium from https://files.pythonhosted.org/packages/a8/4d/3cbfd81ed84db450dbe73a89afcd8bc405273918415649ac6683356afe92/gymnasium-0.29.1-py3-none-any.whl.metadata\n",
      "  Downloading gymnasium-0.29.1-py3-none-any.whl.metadata (10 kB)\n",
      "Collecting renderlab\n",
      "  Obtaining dependency information for renderlab from https://files.pythonhosted.org/packages/76/43/c4f00b499d795417a26171629dabf995bfec61364a1080963678ac1a891c/renderlab-0.1.20230421184216-py3-none-any.whl.metadata\n",
      "  Downloading renderlab-0.1.20230421184216-py3-none-any.whl.metadata (1.9 kB)\n",
      "Requirement already satisfied: numpy>=1.21.0 in c:\\users\\giore\\anaconda3\\lib\\site-packages (from gymnasium) (1.24.3)\n",
      "Requirement already satisfied: cloudpickle>=1.2.0 in c:\\users\\giore\\anaconda3\\lib\\site-packages (from gymnasium) (2.2.1)\n",
      "Requirement already satisfied: typing-extensions>=4.3.0 in c:\\users\\giore\\anaconda3\\lib\\site-packages (from gymnasium) (4.7.1)\n",
      "Collecting farama-notifications>=0.0.1 (from gymnasium)\n",
      "  Obtaining dependency information for farama-notifications>=0.0.1 from https://files.pythonhosted.org/packages/05/2c/ffc08c54c05cdce6fbed2aeebc46348dbe180c6d2c541c7af7ba0aa5f5f8/Farama_Notifications-0.0.4-py3-none-any.whl.metadata\n",
      "  Downloading Farama_Notifications-0.0.4-py3-none-any.whl.metadata (558 bytes)\n",
      "Collecting moviepy (from renderlab)\n",
      "  Downloading moviepy-1.0.3.tar.gz (388 kB)\n",
      "     ---------------------------------------- 0.0/388.3 kB ? eta -:--:--\n",
      "     --- ----------------------------------- 30.7/388.3 kB 1.3 MB/s eta 0:00:01\n",
      "     -------------------------------------  378.9/388.3 kB 5.9 MB/s eta 0:00:01\n",
      "     -------------------------------------- 388.3/388.3 kB 6.0 MB/s eta 0:00:00\n",
      "  Preparing metadata (setup.py): started\n",
      "  Preparing metadata (setup.py): finished with status 'done'\n",
      "Collecting decorator<5.0,>=4.0.2 (from moviepy->renderlab)\n",
      "  Obtaining dependency information for decorator<5.0,>=4.0.2 from https://files.pythonhosted.org/packages/ed/1b/72a1821152d07cf1d8b6fce298aeb06a7eb90f4d6d41acec9861e7cc6df0/decorator-4.4.2-py2.py3-none-any.whl.metadata\n",
      "  Downloading decorator-4.4.2-py2.py3-none-any.whl.metadata (4.2 kB)\n",
      "Requirement already satisfied: tqdm<5.0,>=4.11.2 in c:\\users\\giore\\anaconda3\\lib\\site-packages (from moviepy->renderlab) (4.65.0)\n",
      "Requirement already satisfied: requests<3.0,>=2.8.1 in c:\\users\\giore\\anaconda3\\lib\\site-packages (from moviepy->renderlab) (2.31.0)\n",
      "Collecting proglog<=1.0.0 (from moviepy->renderlab)\n",
      "  Obtaining dependency information for proglog<=1.0.0 from https://files.pythonhosted.org/packages/8b/f5/cab5cf6a540c31f5099043de0ae43990fd9cf66f75ecb5e9f254a4e4d4ee/proglog-0.1.10-py3-none-any.whl.metadata\n",
      "  Downloading proglog-0.1.10-py3-none-any.whl.metadata (639 bytes)\n",
      "Requirement already satisfied: imageio<3.0,>=2.5 in c:\\users\\giore\\anaconda3\\lib\\site-packages (from moviepy->renderlab) (2.26.0)\n",
      "Collecting imageio_ffmpeg>=0.2.0 (from moviepy->renderlab)\n",
      "  Obtaining dependency information for imageio_ffmpeg>=0.2.0 from https://files.pythonhosted.org/packages/c6/01/716106099e48c4f419876d5814679a94dd7d6f441217c97c1b608123c6bb/imageio_ffmpeg-0.4.9-py3-none-win_amd64.whl.metadata\n",
      "  Downloading imageio_ffmpeg-0.4.9-py3-none-win_amd64.whl.metadata (1.7 kB)\n",
      "Requirement already satisfied: pillow>=8.3.2 in c:\\users\\giore\\anaconda3\\lib\\site-packages (from imageio<3.0,>=2.5->moviepy->renderlab) (10.0.1)\n",
      "Requirement already satisfied: setuptools in c:\\users\\giore\\anaconda3\\lib\\site-packages (from imageio_ffmpeg>=0.2.0->moviepy->renderlab) (68.0.0)\n",
      "Requirement already satisfied: charset-normalizer<4,>=2 in c:\\users\\giore\\anaconda3\\lib\\site-packages (from requests<3.0,>=2.8.1->moviepy->renderlab) (2.0.4)\n",
      "Requirement already satisfied: idna<4,>=2.5 in c:\\users\\giore\\anaconda3\\lib\\site-packages (from requests<3.0,>=2.8.1->moviepy->renderlab) (3.4)\n",
      "Requirement already satisfied: urllib3<3,>=1.21.1 in c:\\users\\giore\\anaconda3\\lib\\site-packages (from requests<3.0,>=2.8.1->moviepy->renderlab) (1.26.16)\n",
      "Requirement already satisfied: certifi>=2017.4.17 in c:\\users\\giore\\anaconda3\\lib\\site-packages (from requests<3.0,>=2.8.1->moviepy->renderlab) (2023.11.17)\n",
      "Requirement already satisfied: colorama in c:\\users\\giore\\anaconda3\\lib\\site-packages (from tqdm<5.0,>=4.11.2->moviepy->renderlab) (0.4.6)\n",
      "Downloading gymnasium-0.29.1-py3-none-any.whl (953 kB)\n",
      "   ---------------------------------------- 0.0/953.9 kB ? eta -:--:--\n",
      "   ----------------------- --------------- 573.4/953.9 kB 12.0 MB/s eta 0:00:01\n",
      "   --------------------------------------- 953.9/953.9 kB 12.1 MB/s eta 0:00:00\n",
      "Downloading renderlab-0.1.20230421184216-py3-none-any.whl (4.0 kB)\n",
      "Downloading Farama_Notifications-0.0.4-py3-none-any.whl (2.5 kB)\n",
      "Downloading decorator-4.4.2-py2.py3-none-any.whl (9.2 kB)\n",
      "Downloading imageio_ffmpeg-0.4.9-py3-none-win_amd64.whl (22.6 MB)\n",
      "   ---------------------------------------- 0.0/22.6 MB ? eta -:--:--\n",
      "   - -------------------------------------- 1.0/22.6 MB 20.0 MB/s eta 0:00:02\n",
      "   --- ------------------------------------ 1.9/22.6 MB 19.7 MB/s eta 0:00:02\n",
      "   ---- ----------------------------------- 2.7/22.6 MB 19.0 MB/s eta 0:00:02\n",
      "   ------- -------------------------------- 4.2/22.6 MB 22.2 MB/s eta 0:00:01\n",
      "   --------- ------------------------------ 5.6/22.6 MB 23.8 MB/s eta 0:00:01\n",
      "   ------------ --------------------------- 7.3/22.6 MB 25.8 MB/s eta 0:00:01\n",
      "   ---------------- ----------------------- 9.6/22.6 MB 29.1 MB/s eta 0:00:01\n",
      "   --------------------- ------------------ 11.9/22.6 MB 34.4 MB/s eta 0:00:01\n",
      "   --------------------------- ------------ 15.5/22.6 MB 50.4 MB/s eta 0:00:01\n",
      "   --------------------------------- ------ 19.2/22.6 MB 65.6 MB/s eta 0:00:01\n",
      "   ----------------------------------- ---- 20.3/22.6 MB 59.5 MB/s eta 0:00:01\n",
      "   ---------------------------------------  22.6/22.6 MB 65.6 MB/s eta 0:00:01\n",
      "   ---------------------------------------  22.6/22.6 MB 65.6 MB/s eta 0:00:01\n",
      "   ---------------------------------------  22.6/22.6 MB 65.6 MB/s eta 0:00:01\n",
      "   ---------------------------------------  22.6/22.6 MB 65.6 MB/s eta 0:00:01\n",
      "   ---------------------------------------- 22.6/22.6 MB 29.7 MB/s eta 0:00:00\n",
      "Downloading proglog-0.1.10-py3-none-any.whl (6.1 kB)\n",
      "Building wheels for collected packages: moviepy\n",
      "  Building wheel for moviepy (setup.py): started\n",
      "  Building wheel for moviepy (setup.py): finished with status 'done'\n",
      "  Created wheel for moviepy: filename=moviepy-1.0.3-py3-none-any.whl size=110773 sha256=c0dbbfbbbeab96ab7e7bb4f30a4c0fbb28940fac65b721a6883197dee609db8e\n",
      "  Stored in directory: c:\\users\\giore\\appdata\\local\\pip\\cache\\wheels\\83\\b1\\d9\\119ef7c144b44d591ec0a9a140465133c23ea95d2a161184ba\n",
      "Successfully built moviepy\n",
      "Installing collected packages: farama-notifications, imageio_ffmpeg, gymnasium, decorator, proglog, moviepy, renderlab\n",
      "  Attempting uninstall: decorator\n",
      "    Found existing installation: decorator 5.1.1\n",
      "    Uninstalling decorator-5.1.1:\n",
      "      Successfully uninstalled decorator-5.1.1\n",
      "Successfully installed decorator-4.4.2 farama-notifications-0.0.4 gymnasium-0.29.1 imageio_ffmpeg-0.4.9 moviepy-1.0.3 proglog-0.1.10 renderlab-0.1.20230421184216\n"
     ]
    }
   ],
   "source": [
    "!pip install gymnasium renderlab"
   ]
  },
  {
   "cell_type": "code",
   "execution_count": 2,
   "id": "80f67aa1",
   "metadata": {},
   "outputs": [
    {
     "name": "stdout",
     "output_type": "stream",
     "text": [
      "Collecting opencv-python\n",
      "  Obtaining dependency information for opencv-python from https://files.pythonhosted.org/packages/c7/ec/9dabb6a9abfdebb3c45b0cc52dec901caafef2b2c7e7d6a839ed86d81e91/opencv_python-4.9.0.80-cp37-abi3-win_amd64.whl.metadata\n",
      "  Downloading opencv_python-4.9.0.80-cp37-abi3-win_amd64.whl.metadata (20 kB)\n",
      "Requirement already satisfied: numpy>=1.21.2 in c:\\users\\giore\\anaconda3\\lib\\site-packages (from opencv-python) (1.24.3)\n",
      "Downloading opencv_python-4.9.0.80-cp37-abi3-win_amd64.whl (38.6 MB)\n",
      "   ---------------------------------------- 0.0/38.6 MB ? eta -:--:--\n",
      "   ---------------------------------------- 0.0/38.6 MB ? eta -:--:--\n",
      "   ---------------------------------------- 0.4/38.6 MB 5.1 MB/s eta 0:00:08\n",
      "   - -------------------------------------- 1.2/38.6 MB 9.3 MB/s eta 0:00:05\n",
      "   -- ------------------------------------- 2.4/38.6 MB 14.0 MB/s eta 0:00:03\n",
      "   --- ------------------------------------ 3.8/38.6 MB 17.3 MB/s eta 0:00:03\n",
      "   ------ --------------------------------- 5.8/38.6 MB 21.8 MB/s eta 0:00:02\n",
      "   -------- ------------------------------- 8.3/38.6 MB 26.6 MB/s eta 0:00:02\n",
      "   ----------- ---------------------------- 11.0/38.6 MB 38.6 MB/s eta 0:00:01\n",
      "   -------------- ------------------------- 14.2/38.6 MB 54.7 MB/s eta 0:00:01\n",
      "   ----------------- ---------------------- 17.3/38.6 MB 59.5 MB/s eta 0:00:01\n",
      "   -------------------- ------------------- 20.2/38.6 MB 65.6 MB/s eta 0:00:01\n",
      "   ----------------------- ---------------- 22.4/38.6 MB 59.5 MB/s eta 0:00:01\n",
      "   ------------------------- -------------- 24.4/38.6 MB 54.4 MB/s eta 0:00:01\n",
      "   --------------------------- ------------ 26.4/38.6 MB 50.1 MB/s eta 0:00:01\n",
      "   ----------------------------- ---------- 28.7/38.6 MB 46.9 MB/s eta 0:00:01\n",
      "   -------------------------------- ------- 31.2/38.6 MB 46.9 MB/s eta 0:00:01\n",
      "   ----------------------------------- ---- 34.1/38.6 MB 50.4 MB/s eta 0:00:01\n",
      "   ------------------------------------- -- 36.7/38.6 MB 54.7 MB/s eta 0:00:01\n",
      "   ---------------------------------------  38.6/38.6 MB 59.5 MB/s eta 0:00:01\n",
      "   ---------------------------------------  38.6/38.6 MB 59.5 MB/s eta 0:00:01\n",
      "   ---------------------------------------  38.6/38.6 MB 59.5 MB/s eta 0:00:01\n",
      "   ---------------------------------------  38.6/38.6 MB 59.5 MB/s eta 0:00:01\n",
      "   ---------------------------------------  38.6/38.6 MB 59.5 MB/s eta 0:00:01\n",
      "   ---------------------------------------  38.6/38.6 MB 59.5 MB/s eta 0:00:01\n",
      "   ---------------------------------------  38.6/38.6 MB 59.5 MB/s eta 0:00:01\n",
      "   ---------------------------------------  38.6/38.6 MB 59.5 MB/s eta 0:00:01\n",
      "   ---------------------------------------  38.6/38.6 MB 59.5 MB/s eta 0:00:01\n",
      "   ---------------------------------------- 38.6/38.6 MB 16.4 MB/s eta 0:00:00\n",
      "Installing collected packages: opencv-python\n",
      "Successfully installed opencv-python-4.9.0.80\n"
     ]
    }
   ],
   "source": [
    "!pip install opencv-python"
   ]
  },
  {
   "cell_type": "code",
   "execution_count": 3,
   "id": "cd71c490",
   "metadata": {
    "scrolled": false
   },
   "outputs": [
    {
     "name": "stdout",
     "output_type": "stream",
     "text": [
      "Collecting box2d\n",
      "  Downloading Box2D-2.3.2.tar.gz (427 kB)\n",
      "     ---------------------------------------- 0.0/427.9 kB ? eta -:--:--\n",
      "      --------------------------------------- 10.2/427.9 kB ? eta -:--:--\n",
      "     -- ---------------------------------- 30.7/427.9 kB 660.6 kB/s eta 0:00:01\n",
      "     ----------------- -------------------- 194.6/427.9 kB 2.0 MB/s eta 0:00:01\n",
      "     -------------------------------------- 427.9/427.9 kB 3.0 MB/s eta 0:00:00\n",
      "  Preparing metadata (setup.py): started\n",
      "  Preparing metadata (setup.py): finished with status 'done'\n",
      "Collecting box2d-kengz\n",
      "  Downloading Box2D-kengz-2.3.3.tar.gz (425 kB)\n",
      "     ---------------------------------------- 0.0/425.4 kB ? eta -:--:--\n",
      "     ------------------------------------- 425.4/425.4 kB 13.0 MB/s eta 0:00:00\n",
      "  Preparing metadata (setup.py): started\n",
      "  Preparing metadata (setup.py): finished with status 'done'\n",
      "Building wheels for collected packages: box2d, box2d-kengz\n",
      "  Building wheel for box2d (setup.py): started\n",
      "  Building wheel for box2d (setup.py): finished with status 'error'\n",
      "  Running setup.py clean for box2d\n",
      "  Building wheel for box2d-kengz (setup.py): started\n",
      "  Building wheel for box2d-kengz (setup.py): finished with status 'error'\n",
      "  Running setup.py clean for box2d-kengz\n",
      "Failed to build box2d box2d-kengz\n"
     ]
    },
    {
     "name": "stderr",
     "output_type": "stream",
     "text": [
      "  error: subprocess-exited-with-error\n",
      "  \n",
      "  python setup.py bdist_wheel did not run successfully.\n",
      "  exit code: 1\n",
      "  \n",
      "  [16 lines of output]\n",
      "  Using setuptools (version 68.0.0).\n",
      "  running bdist_wheel\n",
      "  running build\n",
      "  running build_py\n",
      "  creating build\n",
      "  creating build\\lib.win-amd64-cpython-311\n",
      "  creating build\\lib.win-amd64-cpython-311\\Box2D\n",
      "  copying library\\Box2D\\Box2D.py -> build\\lib.win-amd64-cpython-311\\Box2D\n",
      "  copying library\\Box2D\\__init__.py -> build\\lib.win-amd64-cpython-311\\Box2D\n",
      "  creating build\\lib.win-amd64-cpython-311\\Box2D\\b2\n",
      "  copying library\\Box2D\\b2\\__init__.py -> build\\lib.win-amd64-cpython-311\\Box2D\\b2\n",
      "  running build_ext\n",
      "  building 'Box2D._Box2D' extension\n",
      "  swigging Box2D\\Box2D.i to Box2D\\Box2D_wrap.cpp\n",
      "  swig.exe -python -c++ -IBox2D -small -O -includeall -ignoremissing -w201 -globals b2Globals -outdir library\\Box2D -keyword -w511 -D_SWIG_KWARGS -o Box2D\\Box2D_wrap.cpp Box2D\\Box2D.i\n",
      "  error: command 'swig.exe' failed: None\n",
      "  [end of output]\n",
      "  \n",
      "  note: This error originates from a subprocess, and is likely not a problem with pip.\n",
      "  ERROR: Failed building wheel for box2d\n",
      "  error: subprocess-exited-with-error\n",
      "  \n",
      "  python setup.py bdist_wheel did not run successfully.\n",
      "  exit code: 1\n",
      "  \n",
      "  [16 lines of output]\n",
      "  Using setuptools (version 68.0.0).\n",
      "  running bdist_wheel\n",
      "  running build\n",
      "  running build_py\n",
      "  creating build\n",
      "  creating build\\lib.win-amd64-cpython-311\n",
      "  creating build\\lib.win-amd64-cpython-311\\Box2D\n",
      "  copying library\\Box2D\\Box2D.py -> build\\lib.win-amd64-cpython-311\\Box2D\n",
      "  copying library\\Box2D\\__init__.py -> build\\lib.win-amd64-cpython-311\\Box2D\n",
      "  creating build\\lib.win-amd64-cpython-311\\Box2D\\b2\n",
      "  copying library\\Box2D\\b2\\__init__.py -> build\\lib.win-amd64-cpython-311\\Box2D\\b2\n",
      "  running build_ext\n",
      "  building 'Box2D._Box2D' extension\n",
      "  swigging Box2D\\Box2D.i to Box2D\\Box2D_wrap.cpp\n",
      "  swig.exe -python -c++ -IBox2D -small -O -includeall -ignoremissing -w201 -globals b2Globals -outdir library\\Box2D -keyword -w511 -D_SWIG_KWARGS -o Box2D\\Box2D_wrap.cpp Box2D\\Box2D.i\n",
      "  error: command 'swig.exe' failed: None\n",
      "  [end of output]\n",
      "  \n",
      "  note: This error originates from a subprocess, and is likely not a problem with pip.\n",
      "  ERROR: Failed building wheel for box2d-kengz\n",
      "ERROR: Could not build wheels for box2d, box2d-kengz, which is required to install pyproject.toml-based projects\n"
     ]
    }
   ],
   "source": [
    "!pip install box2d box2d-kengz"
   ]
  },
  {
   "cell_type": "code",
   "execution_count": 4,
   "id": "3d0f96e2",
   "metadata": {},
   "outputs": [
    {
     "name": "stdout",
     "output_type": "stream",
     "text": [
      "Collecting pygame\n",
      "  Obtaining dependency information for pygame from https://files.pythonhosted.org/packages/82/61/93ae7afbd931a70510cfdf0a7bb0007540020b8d80bc1d8762ebdc46479b/pygame-2.5.2-cp311-cp311-win_amd64.whl.metadata\n",
      "  Downloading pygame-2.5.2-cp311-cp311-win_amd64.whl.metadata (13 kB)\n",
      "Downloading pygame-2.5.2-cp311-cp311-win_amd64.whl (10.8 MB)\n",
      "   ---------------------------------------- 0.0/10.8 MB ? eta -:--:--\n",
      "   ---------------------------------------- 0.0/10.8 MB ? eta -:--:--\n",
      "    --------------------------------------- 0.3/10.8 MB 3.9 MB/s eta 0:00:03\n",
      "   ---- ----------------------------------- 1.3/10.8 MB 14.1 MB/s eta 0:00:01\n",
      "   ------------ --------------------------- 3.3/10.8 MB 20.8 MB/s eta 0:00:01\n",
      "   ----------------- ---------------------- 4.6/10.8 MB 24.3 MB/s eta 0:00:01\n",
      "   --------------------- ------------------ 5.8/10.8 MB 24.6 MB/s eta 0:00:01\n",
      "   ------------------------ --------------- 6.5/10.8 MB 23.2 MB/s eta 0:00:01\n",
      "   ----------------------------- ---------- 7.8/10.8 MB 23.7 MB/s eta 0:00:01\n",
      "   ----------------------------------- ---- 9.5/10.8 MB 25.3 MB/s eta 0:00:01\n",
      "   ---------------------------------------  10.8/10.8 MB 28.5 MB/s eta 0:00:01\n",
      "   ---------------------------------------- 10.8/10.8 MB 26.1 MB/s eta 0:00:00\n",
      "Installing collected packages: pygame\n",
      "Successfully installed pygame-2.5.2\n"
     ]
    }
   ],
   "source": [
    "!pip install pygame"
   ]
  },
  {
   "cell_type": "code",
   "execution_count": 6,
   "id": "fa188380",
   "metadata": {},
   "outputs": [
    {
     "ename": "ModuleNotFoundError",
     "evalue": "No module named 'gymnasium'",
     "output_type": "error",
     "traceback": [
      "\u001b[1;31m---------------------------------------------------------------------------\u001b[0m",
      "\u001b[1;31mModuleNotFoundError\u001b[0m                       Traceback (most recent call last)",
      "\u001b[1;32m~\\AppData\\Local\\Temp\\ipykernel_7328\\2409400860.py\u001b[0m in \u001b[0;36m<module>\u001b[1;34m\u001b[0m\n\u001b[1;32m----> 1\u001b[1;33m \u001b[1;32mimport\u001b[0m \u001b[0mgymnasium\u001b[0m \u001b[1;32mas\u001b[0m \u001b[0mgym\u001b[0m\u001b[1;33m\u001b[0m\u001b[1;33m\u001b[0m\u001b[0m\n\u001b[0m",
      "\u001b[1;31mModuleNotFoundError\u001b[0m: No module named 'gymnasium'"
     ]
    }
   ],
   "source": [
    "import gymnasium as gym"
   ]
  },
  {
   "cell_type": "code",
   "execution_count": null,
   "id": "6314467c",
   "metadata": {},
   "outputs": [],
   "source": []
  }
 ],
 "metadata": {
  "kernelspec": {
   "display_name": "Python 3 (ipykernel)",
   "language": "python",
   "name": "python3"
  },
  "language_info": {
   "codemirror_mode": {
    "name": "ipython",
    "version": 3
   },
   "file_extension": ".py",
   "mimetype": "text/x-python",
   "name": "python",
   "nbconvert_exporter": "python",
   "pygments_lexer": "ipython3",
   "version": "3.11.5"
  }
 },
 "nbformat": 4,
 "nbformat_minor": 5
}
