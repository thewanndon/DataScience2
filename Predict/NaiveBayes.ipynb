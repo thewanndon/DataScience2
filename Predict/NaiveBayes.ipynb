{
 "cells": [
  {
   "cell_type": "code",
   "execution_count": 1,
   "id": "537ffe1c",
   "metadata": {},
   "outputs": [],
   "source": [
    "import pandas as pd\n",
    "import seaborn as sns\n",
    "from sklearn.model_selection import train_test_split\n",
    "import numpy as np"
   ]
  },
  {
   "cell_type": "code",
   "execution_count": 2,
   "id": "03176f62",
   "metadata": {},
   "outputs": [
    {
     "name": "stdout",
     "output_type": "stream",
     "text": [
      "Train DataFrame shape: (600, 36)\n",
      "Test DataFrame shape: (258, 36)\n"
     ]
    }
   ],
   "source": [
    "all_df = pd.read_csv('cancer.csv')\n",
    "\n",
    "# Split the data into training (70%) and testing (30%) sets\n",
    "train_df, test_df = train_test_split(all_df, test_size=0.3, random_state=42)\n",
    "\n",
    "# Display the shapes of the two datasets\n",
    "print(\"Train DataFrame shape:\", train_df.shape)\n",
    "print(\"Test DataFrame shape:\", test_df.shape)"
   ]
  },
  {
   "cell_type": "code",
   "execution_count": 3,
   "id": "7789a04e",
   "metadata": {},
   "outputs": [
    {
     "name": "stdout",
     "output_type": "stream",
     "text": [
      "<class 'pandas.core.frame.DataFrame'>\n",
      "Int64Index: 600 entries, 28 to 102\n",
      "Data columns (total 36 columns):\n",
      " #   Column                              Non-Null Count  Dtype \n",
      "---  ------                              --------------  ----- \n",
      " 0   Age                                 600 non-null    int64 \n",
      " 1   Number of sexual partners           600 non-null    object\n",
      " 2   First sexual intercourse            600 non-null    object\n",
      " 3   Num of pregnancies                  600 non-null    object\n",
      " 4   Smokes                              600 non-null    object\n",
      " 5   Smokes (years)                      600 non-null    object\n",
      " 6   Smokes (packs/year)                 600 non-null    object\n",
      " 7   Hormonal Contraceptives             600 non-null    object\n",
      " 8   Hormonal Contraceptives (years)     600 non-null    object\n",
      " 9   IUD                                 600 non-null    object\n",
      " 10  IUD (years)                         600 non-null    object\n",
      " 11  STDs                                600 non-null    object\n",
      " 12  STDs (number)                       600 non-null    object\n",
      " 13  STDs:condylomatosis                 600 non-null    object\n",
      " 14  STDs:cervical condylomatosis        600 non-null    object\n",
      " 15  STDs:vaginal condylomatosis         600 non-null    object\n",
      " 16  STDs:vulvo-perineal condylomatosis  600 non-null    object\n",
      " 17  STDs:syphilis                       600 non-null    object\n",
      " 18  STDs:pelvic inflammatory disease    600 non-null    object\n",
      " 19  STDs:genital herpes                 600 non-null    object\n",
      " 20  STDs:molluscum contagiosum          600 non-null    object\n",
      " 21  STDs:AIDS                           600 non-null    object\n",
      " 22  STDs:HIV                            600 non-null    object\n",
      " 23  STDs:Hepatitis B                    600 non-null    object\n",
      " 24  STDs:HPV                            600 non-null    object\n",
      " 25  STDs: Number of diagnosis           600 non-null    int64 \n",
      " 26  STDs: Time since first diagnosis    600 non-null    object\n",
      " 27  STDs: Time since last diagnosis     600 non-null    object\n",
      " 28  Dx:Cancer                           600 non-null    int64 \n",
      " 29  Dx:CIN                              600 non-null    int64 \n",
      " 30  Dx:HPV                              600 non-null    int64 \n",
      " 31  Dx                                  600 non-null    int64 \n",
      " 32  Hinselmann                          600 non-null    int64 \n",
      " 33  Schiller                            600 non-null    int64 \n",
      " 34  Citology                            600 non-null    int64 \n",
      " 35  Biopsy                              600 non-null    int64 \n",
      "dtypes: int64(10), object(26)\n",
      "memory usage: 173.4+ KB\n"
     ]
    }
   ],
   "source": [
    "train_df.info()"
   ]
  },
  {
   "cell_type": "code",
   "execution_count": 4,
   "id": "929bcf29",
   "metadata": {},
   "outputs": [
    {
     "name": "stdout",
     "output_type": "stream",
     "text": [
      "{'Dx:Cancer': 4, 'Dx:CIN': 3, 'Dx': 6, 'Hinselmann': 16, 'Schiller': 35, 'Citology': 14}\n",
      "{'Dx:Cancer': 8, 'Dx:CIN': 4, 'Dx': 10, 'Hinselmann': 9, 'Schiller': 18, 'Citology': 22}\n"
     ]
    }
   ],
   "source": [
    "testingColumns = [\"Dx:Cancer\", \"Dx:CIN\", \"Dx\", \"Hinselmann\", \"Schiller\", \"Citology\"]\n",
    "cancer_df = train_df[train_df['Biopsy'] == True]\n",
    "nonCancer_df = train_df[train_df['Biopsy'] == False]\n",
    "    \n",
    "def getNaiveCounts():\n",
    "    naive_cancer = {}\n",
    "    naive_noncancer = {}\n",
    "    \n",
    "    for column in testingColumns:\n",
    "        columnCountCancer = cancer_df[cancer_df[column] == 1]\n",
    "        naive_cancer[column] = len(columnCountCancer)\n",
    "        \n",
    "        columnCountNonCancer = nonCancer_df[nonCancer_df[column] == 1]\n",
    "        naive_noncancer[column] = len(columnCountNonCancer)\n",
    "        \n",
    "        \n",
    "    return naive_cancer, naive_noncancer\n",
    "\n",
    "naive_cancer, naive_noncancer = getNaiveCounts()\n",
    "\n",
    "print(naive_cancer)\n",
    "print(naive_noncancer)"
   ]
  },
  {
   "cell_type": "code",
   "execution_count": 5,
   "id": "c84c875b",
   "metadata": {},
   "outputs": [
    {
     "name": "stdout",
     "output_type": "stream",
     "text": [
      "{'Dx:Cancer': 0.05128205128205128, 'Dx:CIN': 0.038461538461538464, 'Dx': 0.07692307692307693, 'Hinselmann': 0.20512820512820512, 'Schiller': 0.44871794871794873, 'Citology': 0.1794871794871795}\n",
      "{'Dx:Cancer': 0.11267605633802817, 'Dx:CIN': 0.056338028169014086, 'Dx': 0.14084507042253522, 'Hinselmann': 0.1267605633802817, 'Schiller': 0.2535211267605634, 'Citology': 0.30985915492957744}\n"
     ]
    }
   ],
   "source": [
    "priorCancerProbability = len(cancer_df) / len(train_df)\n",
    "priorCancerProbability\n",
    "\n",
    "priorNonCancerProbability = len(nonCancer_df) / len(train_df)\n",
    "priorNonCancerProbability\n",
    "\n",
    "cancerProbabilities = {}\n",
    "noncancerProbabilities = {}\n",
    "\n",
    "def setProbabilities():\n",
    "    totalCancerOccurances = 0\n",
    "    for column, count in naive_cancer.items():\n",
    "        totalCancerOccurances += count\n",
    " \n",
    "    for column, count in naive_cancer.items():\n",
    "        cancerProbabilities[column] = count / totalCancerOccurances\n",
    "    \n",
    "    totalNonCancerOccurances = 0\n",
    "    for column, count in naive_noncancer.items():\n",
    "        totalNonCancerOccurances += count\n",
    " \n",
    "    for column, count in naive_noncancer.items():\n",
    "        noncancerProbabilities[column] = count / totalNonCancerOccurances\n",
    "    \n",
    "\n",
    "setProbabilities()\n",
    "print(cancerProbabilities)\n",
    "print(noncancerProbabilities)"
   ]
  },
  {
   "cell_type": "code",
   "execution_count": 6,
   "id": "a4e664d9",
   "metadata": {},
   "outputs": [],
   "source": [
    "def getScore(dataRow, predictCancer):\n",
    "    if predictCancer:\n",
    "        calculation = priorCancerProbability\n",
    "        for column in testingColumns:\n",
    "            calculation = calculation * pow(cancerProbabilities[column], dataRow[column])\n",
    "        return calculation\n",
    "    else:\n",
    "        calculation = priorNonCancerProbability\n",
    "        for column in testingColumns:\n",
    "            calculation = calculation * pow(noncancerProbabilities[column], dataRow[column])\n",
    "        return calculation"
   ]
  },
  {
   "cell_type": "code",
   "execution_count": 7,
   "id": "de20bd69",
   "metadata": {},
   "outputs": [
    {
     "name": "stdout",
     "output_type": "stream",
     "text": [
      "Test Accuracy: 94.18604651162791\n"
     ]
    }
   ],
   "source": [
    "correctPredictions = 0\n",
    "for i, dataRow in test_df.iterrows():\n",
    "    prediction = 0\n",
    "    cancerProbability = getScore(dataRow, True)\n",
    "    noncancerProbability = getScore(dataRow, False)\n",
    "    \n",
    "    if cancerProbability > noncancerProbability:\n",
    "        prediction = 1\n",
    "    else:\n",
    "        prediction = 0\n",
    "        \n",
    "    if dataRow['Biopsy'] == prediction:\n",
    "        correctPredictions += 1\n",
    "        \n",
    "print(\"Test Accuracy: \"+str(correctPredictions/len(test_df) * 100))"
   ]
  },
  {
   "cell_type": "code",
   "execution_count": 8,
   "id": "fcba2e4b",
   "metadata": {},
   "outputs": [
    {
     "name": "stdout",
     "output_type": "stream",
     "text": [
      "Train Accuracy: 93.33333333333333\n"
     ]
    }
   ],
   "source": [
    "correctPredictions = 0\n",
    "for i, dataRow in train_df.iterrows():\n",
    "    prediction = 0\n",
    "    cancerProbability = getScore(dataRow, True)\n",
    "    noncancerProbability = getScore(dataRow, False)\n",
    "    \n",
    "    if cancerProbability > noncancerProbability:\n",
    "        prediction = 1\n",
    "    else:\n",
    "        prediction = 0\n",
    "        \n",
    "    if dataRow['Biopsy'] == prediction:\n",
    "        correctPredictions += 1\n",
    "        \n",
    "print(\"Train Accuracy: \"+str(correctPredictions/len(train_df) * 100))"
   ]
  },
  {
   "cell_type": "code",
   "execution_count": null,
   "id": "1ee6bc5d",
   "metadata": {},
   "outputs": [],
   "source": []
  }
 ],
 "metadata": {
  "kernelspec": {
   "display_name": "Python 3 (ipykernel)",
   "language": "python",
   "name": "python3"
  },
  "language_info": {
   "codemirror_mode": {
    "name": "ipython",
    "version": 3
   },
   "file_extension": ".py",
   "mimetype": "text/x-python",
   "name": "python",
   "nbconvert_exporter": "python",
   "pygments_lexer": "ipython3",
   "version": "3.9.13"
  }
 },
 "nbformat": 4,
 "nbformat_minor": 5
}
