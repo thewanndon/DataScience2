{
 "cells": [
  {
   "cell_type": "code",
   "execution_count": 1,
   "id": "e7ee23d9",
   "metadata": {},
   "outputs": [],
   "source": [
    "import pandas as pd\n",
    "import numpy as np\n",
    "import seaborn as sns\n",
    "import matplotlib.pyplot as plt\n",
    "from sklearn.model_selection import train_test_split"
   ]
  },
  {
   "cell_type": "code",
   "execution_count": 2,
   "id": "cb14cb66",
   "metadata": {},
   "outputs": [
    {
     "name": "stdout",
     "output_type": "stream",
     "text": [
      "Train DataFrame shape: (1022, 81)\n",
      "Test DataFrame shape: (438, 81)\n"
     ]
    }
   ],
   "source": [
    "all_df = pd.read_csv('train.csv')\n",
    "\n",
    "# Split the data into training (70%) and testing (30%) sets\n",
    "train_df, test_df = train_test_split(all_df, test_size=0.3, random_state=42)\n",
    "\n",
    "# Display the shapes of the two datasets\n",
    "print(\"Train DataFrame shape:\", train_df.shape)\n",
    "print(\"Test DataFrame shape:\", test_df.shape)"
   ]
  },
  {
   "cell_type": "code",
   "execution_count": 3,
   "id": "c660a1de",
   "metadata": {},
   "outputs": [],
   "source": [
    "#Find average relative error\n",
    "\n",
    "def getPrediction(year, shift, intercept, mult, degree):\n",
    "    return pow(mult*(year+shift), degree)+intercept\n",
    "\n",
    "def getRelativeError(prediction, actual):\n",
    "    return abs(prediction-actual) / actual * 100\n",
    "\n",
    "def getAccuracy(df, shift, intercept, mult, degree):\n",
    "    #Gather the average relative errora\n",
    "    averageRelErrors = []\n",
    "    for i in range(len(df['SalePrice'])):\n",
    "        SalePrice = df.iloc[i]['SalePrice']\n",
    "        OverallQual = df.iloc[i]['OverallQual']\n",
    "        prediction = getPrediction(OverallQual, shift, intercept, mult, degree)\n",
    "        relativeError = getRelativeError(prediction, SalePrice)\n",
    "        #print(\"Prediction: \"+str(prediction)+\" Actual: \"+str(SalePrice)+\" Relative Error: \"+str(relativeError)+\"%\")\n",
    "        averageRelErrors.append(relativeError)\n",
    "    return sum(averageRelErrors) / len(averageRelErrors)"
   ]
  },
  {
   "cell_type": "code",
   "execution_count": 57,
   "id": "db5d01fa",
   "metadata": {},
   "outputs": [
    {
     "name": "stdout",
     "output_type": "stream",
     "text": [
      "running Degree 0/200\n",
      "Ran Degree : Best Equation: [62.935169134836045, 1.01, 6.1355]\n",
      "running Degree 1/200\n",
      "Ran Degree : Best Equation: [62.935169134836045, 1.01, 6.1355]\n",
      "running Degree 2/200\n",
      "Ran Degree : Best Equation: [62.935169134836045, 1.01, 6.1355]\n",
      "running Degree 3/200\n",
      "Ran Degree : Best Equation: [62.935169134836045, 1.01, 6.1355]\n",
      "running Degree 4/200\n",
      "Ran Degree : Best Equation: [62.935169134836045, 1.01, 6.1355]\n",
      "running Degree 5/200\n",
      "Ran Degree : Best Equation: [62.935169134836045, 1.01, 6.1355]\n",
      "running Degree 6/200\n",
      "Ran Degree : Best Equation: [62.935169134836045, 1.01, 6.1355]\n",
      "running Degree 7/200\n",
      "Ran Degree : Best Equation: [62.935169134836045, 1.01, 6.1355]\n",
      "running Degree 8/200\n",
      "Ran Degree : Best Equation: [62.935169134836045, 1.01, 6.1355]\n",
      "running Degree 9/200\n",
      "Ran Degree : Best Equation: [62.935169134836045, 1.01, 6.1355]\n",
      "running Degree 10/200\n",
      "Ran Degree : Best Equation: [62.935169134836045, 1.01, 6.1355]\n",
      "running Degree 11/200\n",
      "Ran Degree : Best Equation: [62.935169134836045, 1.01, 6.1355]\n",
      "running Degree 12/200\n",
      "Ran Degree : Best Equation: [62.935169134836045, 1.01, 6.1355]\n",
      "running Degree 13/200\n",
      "Ran Degree : Best Equation: [62.935169134836045, 1.01, 6.1355]\n",
      "running Degree 14/200\n",
      "Ran Degree : Best Equation: [62.935169134836045, 1.01, 6.1355]\n",
      "running Degree 15/200\n",
      "Ran Degree : Best Equation: [62.935169134836045, 1.01, 6.1355]\n",
      "running Degree 16/200\n",
      "Ran Degree : Best Equation: [62.935169134836045, 1.01, 6.1355]\n",
      "running Degree 17/200\n",
      "Ran Degree : Best Equation: [62.935169134836045, 1.01, 6.1355]\n",
      "running Degree 18/200\n",
      "Ran Degree : Best Equation: [62.935169134836045, 1.01, 6.1355]\n",
      "running Degree 19/200\n",
      "Ran Degree : Best Equation: [62.935169134836045, 1.01, 6.1355]\n",
      "running Degree 20/200\n",
      "Ran Degree : Best Equation: [62.935169134836045, 1.01, 6.1355]\n",
      "running Degree 21/200\n",
      "Ran Degree : Best Equation: [62.935169134836045, 1.01, 6.1355]\n",
      "running Degree 22/200\n",
      "Ran Degree : Best Equation: [62.935169134836045, 1.01, 6.1355]\n",
      "running Degree 23/200\n",
      "Ran Degree : Best Equation: [62.935169134836045, 1.01, 6.1355]\n",
      "running Degree 24/200\n",
      "Ran Degree : Best Equation: [62.935169134836045, 1.01, 6.1355]\n",
      "running Degree 25/200\n",
      "Ran Degree : Best Equation: [62.935169134836045, 1.01, 6.1355]\n",
      "running Degree 26/200\n",
      "Ran Degree : Best Equation: [62.935169134836045, 1.01, 6.1355]\n",
      "running Degree 27/200\n",
      "Ran Degree : Best Equation: [62.935169134836045, 1.01, 6.1355]\n",
      "running Degree 28/200\n",
      "Ran Degree : Best Equation: [62.935169134836045, 1.01, 6.1355]\n",
      "running Degree 29/200\n",
      "Ran Degree : Best Equation: [62.935169134836045, 1.01, 6.1355]\n",
      "running Degree 30/200\n",
      "Ran Degree : Best Equation: [62.935169134836045, 1.01, 6.1355]\n",
      "running Degree 31/200\n",
      "Ran Degree : Best Equation: [62.935169134836045, 1.01, 6.1355]\n",
      "running Degree 32/200\n",
      "Ran Degree : Best Equation: [62.935169134836045, 1.01, 6.1355]\n",
      "running Degree 33/200\n",
      "Ran Degree : Best Equation: [62.935169134836045, 1.01, 6.1355]\n",
      "running Degree 34/200\n",
      "Ran Degree : Best Equation: [62.935169134836045, 1.01, 6.1355]\n",
      "running Degree 35/200\n",
      "Ran Degree : Best Equation: [62.935169134836045, 1.01, 6.1355]\n",
      "running Degree 36/200\n"
     ]
    },
    {
     "ename": "KeyboardInterrupt",
     "evalue": "",
     "output_type": "error",
     "traceback": [
      "\u001b[1;31m---------------------------------------------------------------------------\u001b[0m",
      "\u001b[1;31mKeyboardInterrupt\u001b[0m                         Traceback (most recent call last)",
      "\u001b[1;32m~\\AppData\\Local\\Temp\\ipykernel_13492\\1776446906.py\u001b[0m in \u001b[0;36m<module>\u001b[1;34m\u001b[0m\n\u001b[0;32m      5\u001b[0m     \u001b[1;32mfor\u001b[0m \u001b[0mi\u001b[0m \u001b[1;32min\u001b[0m \u001b[0mrange\u001b[0m\u001b[1;33m(\u001b[0m\u001b[1;36m3\u001b[0m\u001b[1;33m)\u001b[0m\u001b[1;33m:\u001b[0m\u001b[1;33m\u001b[0m\u001b[1;33m\u001b[0m\u001b[0m\n\u001b[0;32m      6\u001b[0m         \u001b[0mmult\u001b[0m \u001b[1;33m=\u001b[0m \u001b[1;36m1\u001b[0m\u001b[1;33m+\u001b[0m\u001b[1;33m(\u001b[0m\u001b[0mi\u001b[0m\u001b[1;33m/\u001b[0m\u001b[1;36m100\u001b[0m\u001b[1;33m)\u001b[0m\u001b[1;33m\u001b[0m\u001b[1;33m\u001b[0m\u001b[0m\n\u001b[1;32m----> 7\u001b[1;33m         \u001b[0maccuracy\u001b[0m \u001b[1;33m=\u001b[0m \u001b[0mgetAccuracy\u001b[0m\u001b[1;33m(\u001b[0m\u001b[0mtrain_df\u001b[0m\u001b[1;33m,\u001b[0m \u001b[1;36m0\u001b[0m\u001b[1;33m,\u001b[0m \u001b[1;36m0\u001b[0m\u001b[1;33m,\u001b[0m \u001b[0mmult\u001b[0m\u001b[1;33m,\u001b[0m \u001b[0mdegree\u001b[0m\u001b[1;33m)\u001b[0m\u001b[1;33m\u001b[0m\u001b[1;33m\u001b[0m\u001b[0m\n\u001b[0m\u001b[0;32m      8\u001b[0m         \u001b[1;32mif\u001b[0m \u001b[0mbestValue\u001b[0m\u001b[1;33m[\u001b[0m\u001b[1;36m0\u001b[0m\u001b[1;33m]\u001b[0m \u001b[1;33m>\u001b[0m \u001b[0maccuracy\u001b[0m\u001b[1;33m:\u001b[0m\u001b[1;33m\u001b[0m\u001b[1;33m\u001b[0m\u001b[0m\n\u001b[0;32m      9\u001b[0m             \u001b[0mbestValue\u001b[0m \u001b[1;33m=\u001b[0m \u001b[1;33m[\u001b[0m\u001b[0maccuracy\u001b[0m\u001b[1;33m,\u001b[0m \u001b[0mmult\u001b[0m\u001b[1;33m,\u001b[0m \u001b[0mdegree\u001b[0m\u001b[1;33m]\u001b[0m\u001b[1;33m\u001b[0m\u001b[1;33m\u001b[0m\u001b[0m\n",
      "\u001b[1;32m~\\AppData\\Local\\Temp\\ipykernel_13492\\62986151.py\u001b[0m in \u001b[0;36mgetAccuracy\u001b[1;34m(df, shift, intercept, mult, degree)\u001b[0m\n\u001b[0;32m     11\u001b[0m     \u001b[0maverageRelErrors\u001b[0m \u001b[1;33m=\u001b[0m \u001b[1;33m[\u001b[0m\u001b[1;33m]\u001b[0m\u001b[1;33m\u001b[0m\u001b[1;33m\u001b[0m\u001b[0m\n\u001b[0;32m     12\u001b[0m     \u001b[1;32mfor\u001b[0m \u001b[0mi\u001b[0m \u001b[1;32min\u001b[0m \u001b[0mrange\u001b[0m\u001b[1;33m(\u001b[0m\u001b[0mlen\u001b[0m\u001b[1;33m(\u001b[0m\u001b[0mdf\u001b[0m\u001b[1;33m[\u001b[0m\u001b[1;34m'SalePrice'\u001b[0m\u001b[1;33m]\u001b[0m\u001b[1;33m)\u001b[0m\u001b[1;33m)\u001b[0m\u001b[1;33m:\u001b[0m\u001b[1;33m\u001b[0m\u001b[1;33m\u001b[0m\u001b[0m\n\u001b[1;32m---> 13\u001b[1;33m         \u001b[0mSalePrice\u001b[0m \u001b[1;33m=\u001b[0m \u001b[0mdf\u001b[0m\u001b[1;33m.\u001b[0m\u001b[0miloc\u001b[0m\u001b[1;33m[\u001b[0m\u001b[0mi\u001b[0m\u001b[1;33m]\u001b[0m\u001b[1;33m[\u001b[0m\u001b[1;34m'SalePrice'\u001b[0m\u001b[1;33m]\u001b[0m\u001b[1;33m\u001b[0m\u001b[1;33m\u001b[0m\u001b[0m\n\u001b[0m\u001b[0;32m     14\u001b[0m         \u001b[0mOverallQual\u001b[0m \u001b[1;33m=\u001b[0m \u001b[0mdf\u001b[0m\u001b[1;33m.\u001b[0m\u001b[0miloc\u001b[0m\u001b[1;33m[\u001b[0m\u001b[0mi\u001b[0m\u001b[1;33m]\u001b[0m\u001b[1;33m[\u001b[0m\u001b[1;34m'OverallQual'\u001b[0m\u001b[1;33m]\u001b[0m\u001b[1;33m\u001b[0m\u001b[1;33m\u001b[0m\u001b[0m\n\u001b[0;32m     15\u001b[0m         \u001b[0mprediction\u001b[0m \u001b[1;33m=\u001b[0m \u001b[0mgetPrediction\u001b[0m\u001b[1;33m(\u001b[0m\u001b[0mOverallQual\u001b[0m\u001b[1;33m,\u001b[0m \u001b[0mshift\u001b[0m\u001b[1;33m,\u001b[0m \u001b[0mintercept\u001b[0m\u001b[1;33m,\u001b[0m \u001b[0mmult\u001b[0m\u001b[1;33m,\u001b[0m \u001b[0mdegree\u001b[0m\u001b[1;33m)\u001b[0m\u001b[1;33m\u001b[0m\u001b[1;33m\u001b[0m\u001b[0m\n",
      "\u001b[1;32mC:\\ProgramData\\Anaconda3\\lib\\site-packages\\pandas\\core\\indexing.py\u001b[0m in \u001b[0;36m__getitem__\u001b[1;34m(self, key)\u001b[0m\n\u001b[0;32m    965\u001b[0m \u001b[1;33m\u001b[0m\u001b[0m\n\u001b[0;32m    966\u001b[0m             \u001b[0mmaybe_callable\u001b[0m \u001b[1;33m=\u001b[0m \u001b[0mcom\u001b[0m\u001b[1;33m.\u001b[0m\u001b[0mapply_if_callable\u001b[0m\u001b[1;33m(\u001b[0m\u001b[0mkey\u001b[0m\u001b[1;33m,\u001b[0m \u001b[0mself\u001b[0m\u001b[1;33m.\u001b[0m\u001b[0mobj\u001b[0m\u001b[1;33m)\u001b[0m\u001b[1;33m\u001b[0m\u001b[1;33m\u001b[0m\u001b[0m\n\u001b[1;32m--> 967\u001b[1;33m             \u001b[1;32mreturn\u001b[0m \u001b[0mself\u001b[0m\u001b[1;33m.\u001b[0m\u001b[0m_getitem_axis\u001b[0m\u001b[1;33m(\u001b[0m\u001b[0mmaybe_callable\u001b[0m\u001b[1;33m,\u001b[0m \u001b[0maxis\u001b[0m\u001b[1;33m=\u001b[0m\u001b[0maxis\u001b[0m\u001b[1;33m)\u001b[0m\u001b[1;33m\u001b[0m\u001b[1;33m\u001b[0m\u001b[0m\n\u001b[0m\u001b[0;32m    968\u001b[0m \u001b[1;33m\u001b[0m\u001b[0m\n\u001b[0;32m    969\u001b[0m     \u001b[1;32mdef\u001b[0m \u001b[0m_is_scalar_access\u001b[0m\u001b[1;33m(\u001b[0m\u001b[0mself\u001b[0m\u001b[1;33m,\u001b[0m \u001b[0mkey\u001b[0m\u001b[1;33m:\u001b[0m \u001b[0mtuple\u001b[0m\u001b[1;33m)\u001b[0m\u001b[1;33m:\u001b[0m\u001b[1;33m\u001b[0m\u001b[1;33m\u001b[0m\u001b[0m\n",
      "\u001b[1;32mC:\\ProgramData\\Anaconda3\\lib\\site-packages\\pandas\\core\\indexing.py\u001b[0m in \u001b[0;36m_getitem_axis\u001b[1;34m(self, key, axis)\u001b[0m\n\u001b[0;32m   1523\u001b[0m             \u001b[0mself\u001b[0m\u001b[1;33m.\u001b[0m\u001b[0m_validate_integer\u001b[0m\u001b[1;33m(\u001b[0m\u001b[0mkey\u001b[0m\u001b[1;33m,\u001b[0m \u001b[0maxis\u001b[0m\u001b[1;33m)\u001b[0m\u001b[1;33m\u001b[0m\u001b[1;33m\u001b[0m\u001b[0m\n\u001b[0;32m   1524\u001b[0m \u001b[1;33m\u001b[0m\u001b[0m\n\u001b[1;32m-> 1525\u001b[1;33m             \u001b[1;32mreturn\u001b[0m \u001b[0mself\u001b[0m\u001b[1;33m.\u001b[0m\u001b[0mobj\u001b[0m\u001b[1;33m.\u001b[0m\u001b[0m_ixs\u001b[0m\u001b[1;33m(\u001b[0m\u001b[0mkey\u001b[0m\u001b[1;33m,\u001b[0m \u001b[0maxis\u001b[0m\u001b[1;33m=\u001b[0m\u001b[0maxis\u001b[0m\u001b[1;33m)\u001b[0m\u001b[1;33m\u001b[0m\u001b[1;33m\u001b[0m\u001b[0m\n\u001b[0m\u001b[0;32m   1526\u001b[0m \u001b[1;33m\u001b[0m\u001b[0m\n\u001b[0;32m   1527\u001b[0m     \u001b[1;32mdef\u001b[0m \u001b[0m_get_slice_axis\u001b[0m\u001b[1;33m(\u001b[0m\u001b[0mself\u001b[0m\u001b[1;33m,\u001b[0m \u001b[0mslice_obj\u001b[0m\u001b[1;33m:\u001b[0m \u001b[0mslice\u001b[0m\u001b[1;33m,\u001b[0m \u001b[0maxis\u001b[0m\u001b[1;33m:\u001b[0m \u001b[0mint\u001b[0m\u001b[1;33m)\u001b[0m\u001b[1;33m:\u001b[0m\u001b[1;33m\u001b[0m\u001b[1;33m\u001b[0m\u001b[0m\n",
      "\u001b[1;32mC:\\ProgramData\\Anaconda3\\lib\\site-packages\\pandas\\core\\frame.py\u001b[0m in \u001b[0;36m_ixs\u001b[1;34m(self, i, axis)\u001b[0m\n\u001b[0;32m   3422\u001b[0m         \u001b[1;31m# irow\u001b[0m\u001b[1;33m\u001b[0m\u001b[1;33m\u001b[0m\u001b[0m\n\u001b[0;32m   3423\u001b[0m         \u001b[1;32mif\u001b[0m \u001b[0maxis\u001b[0m \u001b[1;33m==\u001b[0m \u001b[1;36m0\u001b[0m\u001b[1;33m:\u001b[0m\u001b[1;33m\u001b[0m\u001b[1;33m\u001b[0m\u001b[0m\n\u001b[1;32m-> 3424\u001b[1;33m             \u001b[0mnew_values\u001b[0m \u001b[1;33m=\u001b[0m \u001b[0mself\u001b[0m\u001b[1;33m.\u001b[0m\u001b[0m_mgr\u001b[0m\u001b[1;33m.\u001b[0m\u001b[0mfast_xs\u001b[0m\u001b[1;33m(\u001b[0m\u001b[0mi\u001b[0m\u001b[1;33m)\u001b[0m\u001b[1;33m\u001b[0m\u001b[1;33m\u001b[0m\u001b[0m\n\u001b[0m\u001b[0;32m   3425\u001b[0m \u001b[1;33m\u001b[0m\u001b[0m\n\u001b[0;32m   3426\u001b[0m             \u001b[1;31m# if we are a copy, mark as such\u001b[0m\u001b[1;33m\u001b[0m\u001b[1;33m\u001b[0m\u001b[0m\n",
      "\u001b[1;32mC:\\ProgramData\\Anaconda3\\lib\\site-packages\\pandas\\core\\internals\\managers.py\u001b[0m in \u001b[0;36mfast_xs\u001b[1;34m(self, loc)\u001b[0m\n\u001b[0;32m   1016\u001b[0m             \u001b[1;31m# result[blk.mgr_locs] = blk._slice((slice(None), loc))\u001b[0m\u001b[1;33m\u001b[0m\u001b[1;33m\u001b[0m\u001b[0m\n\u001b[0;32m   1017\u001b[0m             \u001b[1;32mfor\u001b[0m \u001b[0mi\u001b[0m\u001b[1;33m,\u001b[0m \u001b[0mrl\u001b[0m \u001b[1;32min\u001b[0m \u001b[0menumerate\u001b[0m\u001b[1;33m(\u001b[0m\u001b[0mblk\u001b[0m\u001b[1;33m.\u001b[0m\u001b[0mmgr_locs\u001b[0m\u001b[1;33m)\u001b[0m\u001b[1;33m:\u001b[0m\u001b[1;33m\u001b[0m\u001b[1;33m\u001b[0m\u001b[0m\n\u001b[1;32m-> 1018\u001b[1;33m                 \u001b[0mresult\u001b[0m\u001b[1;33m[\u001b[0m\u001b[0mrl\u001b[0m\u001b[1;33m]\u001b[0m \u001b[1;33m=\u001b[0m \u001b[0mblk\u001b[0m\u001b[1;33m.\u001b[0m\u001b[0miget\u001b[0m\u001b[1;33m(\u001b[0m\u001b[1;33m(\u001b[0m\u001b[0mi\u001b[0m\u001b[1;33m,\u001b[0m \u001b[0mloc\u001b[0m\u001b[1;33m)\u001b[0m\u001b[1;33m)\u001b[0m\u001b[1;33m\u001b[0m\u001b[1;33m\u001b[0m\u001b[0m\n\u001b[0m\u001b[0;32m   1019\u001b[0m \u001b[1;33m\u001b[0m\u001b[0m\n\u001b[0;32m   1020\u001b[0m         \u001b[1;32mif\u001b[0m \u001b[0mimmutable_ea\u001b[0m\u001b[1;33m:\u001b[0m\u001b[1;33m\u001b[0m\u001b[1;33m\u001b[0m\u001b[0m\n",
      "\u001b[1;31mKeyboardInterrupt\u001b[0m: "
     ]
    }
   ],
   "source": [
    "bestValue = [10000, 0, 0]\n",
    "for i in range(200):\n",
    "    degree = 6.1355+(i/10000)\n",
    "    print(\"running Degree \"+str(i)+\"/200\")\n",
    "    for i in range(3):\n",
    "        mult = 1+(i/100)\n",
    "        accuracy = getAccuracy(train_df, 0, 0, mult, degree)\n",
    "        if bestValue[0] > accuracy:\n",
    "            bestValue = [accuracy, mult, degree]\n",
    "    print(\"Ran Degree : \"+\"Best Equation: \"+str(bestValue))\n",
    "\n",
    "print(\"Best Equation: \"+str(bestValue))"
   ]
  },
  {
   "cell_type": "code",
   "execution_count": 54,
   "id": "28ad71cd",
   "metadata": {},
   "outputs": [
    {
     "data": {
      "text/plain": [
       "63.125797888881635"
      ]
     },
     "execution_count": 54,
     "metadata": {},
     "output_type": "execute_result"
    }
   ],
   "source": [
    "getAccuracy(train_df, 0, 0, 1, 6.1355)"
   ]
  },
  {
   "cell_type": "code",
   "execution_count": null,
   "id": "c2a69a61",
   "metadata": {},
   "outputs": [],
   "source": [
    "# bestValue = [10000, 0, 0]\n",
    "# p = 2\n",
    "# for i in range(200):\n",
    "#     degree = 1.468#-((i-1)/100)\n",
    "#     print(\"running Degree \"+str(i)+\"/200\")\n",
    "#     for i in range(330):\n",
    "#         mult = 1.6489-(i/pow(100, p))\n",
    "#         print(mult)\n",
    "#         accuracy = getAccuracy(train_df, -1960, 0, mult, degree)\n",
    "#         if bestValue[0] > accuracy:\n",
    "#             bestValue = [accuracy, mult, degree]\n",
    "#         else:\n",
    "#             p = p+1\n",
    "#     print(\"Ran Degree : \"+\"Best Equation: \"+str(bestValue))\n",
    "\n",
    "# print(\"Best Equation: \"+str(bestValue))"
   ]
  }
 ],
 "metadata": {
  "kernelspec": {
   "display_name": "Python 3 (ipykernel)",
   "language": "python",
   "name": "python3"
  },
  "language_info": {
   "codemirror_mode": {
    "name": "ipython",
    "version": 3
   },
   "file_extension": ".py",
   "mimetype": "text/x-python",
   "name": "python",
   "nbconvert_exporter": "python",
   "pygments_lexer": "ipython3",
   "version": "3.9.13"
  }
 },
 "nbformat": 4,
 "nbformat_minor": 5
}
