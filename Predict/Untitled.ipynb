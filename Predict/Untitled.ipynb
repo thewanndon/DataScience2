{
 "cells": [
  {
   "cell_type": "code",
   "execution_count": 1,
   "id": "ad5ee884",
   "metadata": {},
   "outputs": [],
   "source": [
    "import pandas as pd\n",
    "import seaborn as sns"
   ]
  },
  {
   "cell_type": "code",
   "execution_count": 4,
   "id": "384697e7",
   "metadata": {},
   "outputs": [],
   "source": [
    "df = pd.read_csv(\"cancer.csv\")"
   ]
  },
  {
   "cell_type": "code",
   "execution_count": 5,
   "id": "6102509b",
   "metadata": {},
   "outputs": [
    {
     "name": "stdout",
     "output_type": "stream",
     "text": [
      "<class 'pandas.core.frame.DataFrame'>\n",
      "RangeIndex: 858 entries, 0 to 857\n",
      "Data columns (total 36 columns):\n",
      " #   Column                              Non-Null Count  Dtype \n",
      "---  ------                              --------------  ----- \n",
      " 0   Age                                 858 non-null    int64 \n",
      " 1   Number of sexual partners           858 non-null    object\n",
      " 2   First sexual intercourse            858 non-null    object\n",
      " 3   Num of pregnancies                  858 non-null    object\n",
      " 4   Smokes                              858 non-null    object\n",
      " 5   Smokes (years)                      858 non-null    object\n",
      " 6   Smokes (packs/year)                 858 non-null    object\n",
      " 7   Hormonal Contraceptives             858 non-null    object\n",
      " 8   Hormonal Contraceptives (years)     858 non-null    object\n",
      " 9   IUD                                 858 non-null    object\n",
      " 10  IUD (years)                         858 non-null    object\n",
      " 11  STDs                                858 non-null    object\n",
      " 12  STDs (number)                       858 non-null    object\n",
      " 13  STDs:condylomatosis                 858 non-null    object\n",
      " 14  STDs:cervical condylomatosis        858 non-null    object\n",
      " 15  STDs:vaginal condylomatosis         858 non-null    object\n",
      " 16  STDs:vulvo-perineal condylomatosis  858 non-null    object\n",
      " 17  STDs:syphilis                       858 non-null    object\n",
      " 18  STDs:pelvic inflammatory disease    858 non-null    object\n",
      " 19  STDs:genital herpes                 858 non-null    object\n",
      " 20  STDs:molluscum contagiosum          858 non-null    object\n",
      " 21  STDs:AIDS                           858 non-null    object\n",
      " 22  STDs:HIV                            858 non-null    object\n",
      " 23  STDs:Hepatitis B                    858 non-null    object\n",
      " 24  STDs:HPV                            858 non-null    object\n",
      " 25  STDs: Number of diagnosis           858 non-null    int64 \n",
      " 26  STDs: Time since first diagnosis    858 non-null    object\n",
      " 27  STDs: Time since last diagnosis     858 non-null    object\n",
      " 28  Dx:Cancer                           858 non-null    int64 \n",
      " 29  Dx:CIN                              858 non-null    int64 \n",
      " 30  Dx:HPV                              858 non-null    int64 \n",
      " 31  Dx                                  858 non-null    int64 \n",
      " 32  Hinselmann                          858 non-null    int64 \n",
      " 33  Schiller                            858 non-null    int64 \n",
      " 34  Citology                            858 non-null    int64 \n",
      " 35  Biopsy                              858 non-null    int64 \n",
      "dtypes: int64(10), object(26)\n",
      "memory usage: 241.4+ KB\n"
     ]
    }
   ],
   "source": [
    "df.info()"
   ]
  },
  {
   "cell_type": "code",
   "execution_count": 14,
   "id": "b10d4948",
   "metadata": {},
   "outputs": [
    {
     "data": {
      "text/plain": [
       "Age                          0.110340\n",
       "STDs: Number of diagnosis   -0.015423\n",
       "Dx:Cancer                    1.000000\n",
       "Dx:CIN                      -0.015072\n",
       "Dx:HPV                       0.886508\n",
       "Dx                           0.665647\n",
       "Hinselmann                   0.134264\n",
       "Schiller                     0.157812\n",
       "Citology                     0.113446\n",
       "Biopsy                       0.160905\n",
       "Name: Dx:Cancer, dtype: float64"
      ]
     },
     "execution_count": 14,
     "metadata": {},
     "output_type": "execute_result"
    }
   ],
   "source": [
    "df.corr()['Dx:Cancer']"
   ]
  },
  {
   "cell_type": "code",
   "execution_count": 6,
   "id": "ce9f5aca",
   "metadata": {},
   "outputs": [
    {
     "data": {
      "text/html": [
       "<div>\n",
       "<style scoped>\n",
       "    .dataframe tbody tr th:only-of-type {\n",
       "        vertical-align: middle;\n",
       "    }\n",
       "\n",
       "    .dataframe tbody tr th {\n",
       "        vertical-align: top;\n",
       "    }\n",
       "\n",
       "    .dataframe thead th {\n",
       "        text-align: right;\n",
       "    }\n",
       "</style>\n",
       "<table border=\"1\" class=\"dataframe\">\n",
       "  <thead>\n",
       "    <tr style=\"text-align: right;\">\n",
       "      <th></th>\n",
       "      <th>Age</th>\n",
       "      <th>STDs: Number of diagnosis</th>\n",
       "      <th>Dx:Cancer</th>\n",
       "      <th>Dx:CIN</th>\n",
       "      <th>Dx:HPV</th>\n",
       "      <th>Dx</th>\n",
       "      <th>Hinselmann</th>\n",
       "      <th>Schiller</th>\n",
       "      <th>Citology</th>\n",
       "      <th>Biopsy</th>\n",
       "    </tr>\n",
       "  </thead>\n",
       "  <tbody>\n",
       "    <tr>\n",
       "      <th>Age</th>\n",
       "      <td>1.000000</td>\n",
       "      <td>-0.001606</td>\n",
       "      <td>0.110340</td>\n",
       "      <td>0.061443</td>\n",
       "      <td>0.101722</td>\n",
       "      <td>0.092635</td>\n",
       "      <td>-0.003967</td>\n",
       "      <td>0.103283</td>\n",
       "      <td>-0.016862</td>\n",
       "      <td>0.055956</td>\n",
       "    </tr>\n",
       "    <tr>\n",
       "      <th>STDs: Number of diagnosis</th>\n",
       "      <td>-0.001606</td>\n",
       "      <td>1.000000</td>\n",
       "      <td>-0.015423</td>\n",
       "      <td>0.008070</td>\n",
       "      <td>-0.015423</td>\n",
       "      <td>-0.002289</td>\n",
       "      <td>0.076787</td>\n",
       "      <td>0.130873</td>\n",
       "      <td>0.055114</td>\n",
       "      <td>0.097449</td>\n",
       "    </tr>\n",
       "    <tr>\n",
       "      <th>Dx:Cancer</th>\n",
       "      <td>0.110340</td>\n",
       "      <td>-0.015423</td>\n",
       "      <td>1.000000</td>\n",
       "      <td>-0.015072</td>\n",
       "      <td>0.886508</td>\n",
       "      <td>0.665647</td>\n",
       "      <td>0.134264</td>\n",
       "      <td>0.157812</td>\n",
       "      <td>0.113446</td>\n",
       "      <td>0.160905</td>\n",
       "    </tr>\n",
       "    <tr>\n",
       "      <th>Dx:CIN</th>\n",
       "      <td>0.061443</td>\n",
       "      <td>0.008070</td>\n",
       "      <td>-0.015072</td>\n",
       "      <td>1.000000</td>\n",
       "      <td>-0.015072</td>\n",
       "      <td>0.606939</td>\n",
       "      <td>-0.021233</td>\n",
       "      <td>0.009119</td>\n",
       "      <td>-0.023938</td>\n",
       "      <td>0.113172</td>\n",
       "    </tr>\n",
       "    <tr>\n",
       "      <th>Dx:HPV</th>\n",
       "      <td>0.101722</td>\n",
       "      <td>-0.015423</td>\n",
       "      <td>0.886508</td>\n",
       "      <td>-0.015072</td>\n",
       "      <td>1.000000</td>\n",
       "      <td>0.616327</td>\n",
       "      <td>0.134264</td>\n",
       "      <td>0.157812</td>\n",
       "      <td>0.113446</td>\n",
       "      <td>0.160905</td>\n",
       "    </tr>\n",
       "    <tr>\n",
       "      <th>Dx</th>\n",
       "      <td>0.092635</td>\n",
       "      <td>-0.002289</td>\n",
       "      <td>0.665647</td>\n",
       "      <td>0.606939</td>\n",
       "      <td>0.616327</td>\n",
       "      <td>1.000000</td>\n",
       "      <td>0.072215</td>\n",
       "      <td>0.098952</td>\n",
       "      <td>0.088740</td>\n",
       "      <td>0.157607</td>\n",
       "    </tr>\n",
       "    <tr>\n",
       "      <th>Hinselmann</th>\n",
       "      <td>-0.003967</td>\n",
       "      <td>0.076787</td>\n",
       "      <td>0.134264</td>\n",
       "      <td>-0.021233</td>\n",
       "      <td>0.134264</td>\n",
       "      <td>0.072215</td>\n",
       "      <td>1.000000</td>\n",
       "      <td>0.650249</td>\n",
       "      <td>0.192467</td>\n",
       "      <td>0.547417</td>\n",
       "    </tr>\n",
       "    <tr>\n",
       "      <th>Schiller</th>\n",
       "      <td>0.103283</td>\n",
       "      <td>0.130873</td>\n",
       "      <td>0.157812</td>\n",
       "      <td>0.009119</td>\n",
       "      <td>0.157812</td>\n",
       "      <td>0.098952</td>\n",
       "      <td>0.650249</td>\n",
       "      <td>1.000000</td>\n",
       "      <td>0.361486</td>\n",
       "      <td>0.733204</td>\n",
       "    </tr>\n",
       "    <tr>\n",
       "      <th>Citology</th>\n",
       "      <td>-0.016862</td>\n",
       "      <td>0.055114</td>\n",
       "      <td>0.113446</td>\n",
       "      <td>-0.023938</td>\n",
       "      <td>0.113446</td>\n",
       "      <td>0.088740</td>\n",
       "      <td>0.192467</td>\n",
       "      <td>0.361486</td>\n",
       "      <td>1.000000</td>\n",
       "      <td>0.327466</td>\n",
       "    </tr>\n",
       "    <tr>\n",
       "      <th>Biopsy</th>\n",
       "      <td>0.055956</td>\n",
       "      <td>0.097449</td>\n",
       "      <td>0.160905</td>\n",
       "      <td>0.113172</td>\n",
       "      <td>0.160905</td>\n",
       "      <td>0.157607</td>\n",
       "      <td>0.547417</td>\n",
       "      <td>0.733204</td>\n",
       "      <td>0.327466</td>\n",
       "      <td>1.000000</td>\n",
       "    </tr>\n",
       "  </tbody>\n",
       "</table>\n",
       "</div>"
      ],
      "text/plain": [
       "                                Age  STDs: Number of diagnosis  Dx:Cancer  \\\n",
       "Age                        1.000000                  -0.001606   0.110340   \n",
       "STDs: Number of diagnosis -0.001606                   1.000000  -0.015423   \n",
       "Dx:Cancer                  0.110340                  -0.015423   1.000000   \n",
       "Dx:CIN                     0.061443                   0.008070  -0.015072   \n",
       "Dx:HPV                     0.101722                  -0.015423   0.886508   \n",
       "Dx                         0.092635                  -0.002289   0.665647   \n",
       "Hinselmann                -0.003967                   0.076787   0.134264   \n",
       "Schiller                   0.103283                   0.130873   0.157812   \n",
       "Citology                  -0.016862                   0.055114   0.113446   \n",
       "Biopsy                     0.055956                   0.097449   0.160905   \n",
       "\n",
       "                             Dx:CIN    Dx:HPV        Dx  Hinselmann  Schiller  \\\n",
       "Age                        0.061443  0.101722  0.092635   -0.003967  0.103283   \n",
       "STDs: Number of diagnosis  0.008070 -0.015423 -0.002289    0.076787  0.130873   \n",
       "Dx:Cancer                 -0.015072  0.886508  0.665647    0.134264  0.157812   \n",
       "Dx:CIN                     1.000000 -0.015072  0.606939   -0.021233  0.009119   \n",
       "Dx:HPV                    -0.015072  1.000000  0.616327    0.134264  0.157812   \n",
       "Dx                         0.606939  0.616327  1.000000    0.072215  0.098952   \n",
       "Hinselmann                -0.021233  0.134264  0.072215    1.000000  0.650249   \n",
       "Schiller                   0.009119  0.157812  0.098952    0.650249  1.000000   \n",
       "Citology                  -0.023938  0.113446  0.088740    0.192467  0.361486   \n",
       "Biopsy                     0.113172  0.160905  0.157607    0.547417  0.733204   \n",
       "\n",
       "                           Citology    Biopsy  \n",
       "Age                       -0.016862  0.055956  \n",
       "STDs: Number of diagnosis  0.055114  0.097449  \n",
       "Dx:Cancer                  0.113446  0.160905  \n",
       "Dx:CIN                    -0.023938  0.113172  \n",
       "Dx:HPV                     0.113446  0.160905  \n",
       "Dx                         0.088740  0.157607  \n",
       "Hinselmann                 0.192467  0.547417  \n",
       "Schiller                   0.361486  0.733204  \n",
       "Citology                   1.000000  0.327466  \n",
       "Biopsy                     0.327466  1.000000  "
      ]
     },
     "execution_count": 6,
     "metadata": {},
     "output_type": "execute_result"
    }
   ],
   "source": [
    "df.corr()"
   ]
  },
  {
   "cell_type": "code",
   "execution_count": 17,
   "id": "4b7c9ba0",
   "metadata": {},
   "outputs": [
    {
     "data": {
      "text/plain": [
       "<AxesSubplot:xlabel='Dx:HPV', ylabel='count'>"
      ]
     },
     "execution_count": 17,
     "metadata": {},
     "output_type": "execute_result"
    },
    {
     "data": {
      "image/png": "[encoded data removed]",
      "text/plain": [
       "<Figure size 640x480 with 1 Axes>"
      ]
     },
     "metadata": {},
     "output_type": "display_data"
    }
   ],
   "source": [
    "sns.countplot(data=df[df['Dx:Cancer'] == 1], x=\"Dx:HPV\")"
   ]
  },
  {
   "cell_type": "code",
   "execution_count": 18,
   "id": "81e7f048",
   "metadata": {},
   "outputs": [
    {
     "data": {
      "text/plain": [
       "<AxesSubplot:xlabel='Dx:HPV', ylabel='count'>"
      ]
     },
     "execution_count": 18,
     "metadata": {},
     "output_type": "execute_result"
    },
    {
     "data": {
      "image/png": "[encoded data removed]",
      "text/plain": [
       "<Figure size 640x480 with 1 Axes>"
      ]
     },
     "metadata": {},
     "output_type": "display_data"
    }
   ],
   "source": [
    "sns.countplot(data=df[df['Dx:Cancer'] == 0], x=\"Dx:HPV\")"
   ]
  },
  {
   "cell_type": "code",
   "execution_count": 20,
   "id": "b589e30e",
   "metadata": {},
   "outputs": [
    {
     "data": {
      "text/plain": [
       "Age                          1.000000\n",
       "STDs: Number of diagnosis   -0.001606\n",
       "Dx:Cancer                    0.110340\n",
       "Dx:CIN                       0.061443\n",
       "Dx:HPV                       0.101722\n",
       "Dx                           0.092635\n",
       "Hinselmann                  -0.003967\n",
       "Schiller                     0.103283\n",
       "Citology                    -0.016862\n",
       "Biopsy                       0.055956\n",
       "Name: Age, dtype: float64"
      ]
     },
     "execution_count": 20,
     "metadata": {},
     "output_type": "execute_result"
    }
   ],
   "source": [
    "df.corr()['Age'].head(30)"
   ]
  },
  {
   "cell_type": "code",
   "execution_count": 26,
   "id": "9146ab4a",
   "metadata": {},
   "outputs": [
    {
     "data": {
      "text/plain": [
       "<AxesSubplot:xlabel='STDs (number)', ylabel='Age'>"
      ]
     },
     "execution_count": 26,
     "metadata": {},
     "output_type": "execute_result"
    },
    {
     "data": {
      "image/png": "[encoded data removed]",
      "text/plain": [
       "<Figure size 640x480 with 1 Axes>"
      ]
     },
     "metadata": {},
     "output_type": "display_data"
    }
   ],
   "source": [
    "sns.barplot(data=df, x=\"STDs (number)\", y=\"Age\", hue=\"Dx:Cancer\")"
   ]
  },
  {
   "cell_type": "code",
   "execution_count": null,
   "id": "517cad2b",
   "metadata": {},
   "outputs": [],
   "source": []
  }
 ],
 "metadata": {
  "kernelspec": {
   "display_name": "Python 3 (ipykernel)",
   "language": "python",
   "name": "python3"
  },
  "language_info": {
   "codemirror_mode": {
    "name": "ipython",
    "version": 3
   },
   "file_extension": ".py",
   "mimetype": "text/x-python",
   "name": "python",
   "nbconvert_exporter": "python",
   "pygments_lexer": "ipython3",
   "version": "3.9.13"
  }
 },
 "nbformat": 4,
 "nbformat_minor": 5
}
