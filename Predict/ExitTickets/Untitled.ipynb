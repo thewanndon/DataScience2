{
 "cells": [
  {
   "cell_type": "code",
   "execution_count": 1,
   "id": "60f95bc0",
   "metadata": {},
   "outputs": [],
   "source": [
    "import pandas as pd\n",
    "import seaborn as sns\n",
    "import numpy as np\n",
    "df = pd.read_csv(\"ETData - ETData.csv\")"
   ]
  },
  {
   "cell_type": "code",
   "execution_count": 2,
   "id": "2fcc7c3c",
   "metadata": {},
   "outputs": [
    {
     "name": "stdout",
     "output_type": "stream",
     "text": [
      "<class 'pandas.core.frame.DataFrame'>\n",
      "RangeIndex: 375 entries, 0 to 374\n",
      "Data columns (total 2 columns):\n",
      " #   Column               Non-Null Count  Dtype  \n",
      "---  ------               --------------  -----  \n",
      " 0   Years of Experience  373 non-null    float64\n",
      " 1   Salary               373 non-null    float64\n",
      "dtypes: float64(2)\n",
      "memory usage: 6.0 KB\n"
     ]
    }
   ],
   "source": [
    "df.info()\n",
    "df = df.dropna()"
   ]
  },
  {
   "cell_type": "code",
   "execution_count": 3,
   "id": "df37e90c",
   "metadata": {},
   "outputs": [
    {
     "data": {
      "text/plain": [
       "<AxesSubplot:xlabel='Years of Experience', ylabel='Salary'>"
      ]
     },
     "execution_count": 3,
     "metadata": {},
     "output_type": "execute_result"
    },
    {
     "data": {
      "image/png": "[encoded data removed]",
      "text/plain": [
       "<Figure size 640x480 with 1 Axes>"
      ]
     },
     "metadata": {},
     "output_type": "display_data"
    }
   ],
   "source": [
    "sns.scatterplot(data=df, x=\"Years of Experience\", y=\"Salary\")"
   ]
  },
  {
   "cell_type": "code",
   "execution_count": 4,
   "id": "1b35ae84",
   "metadata": {},
   "outputs": [],
   "source": [
    "def getLinearPrediction(xValue, slope, intercept):\n",
    "    return slope*xValue + intercept"
   ]
  },
  {
   "cell_type": "code",
   "execution_count": 5,
   "id": "6a0ed88a",
   "metadata": {},
   "outputs": [],
   "source": [
    "def getRMSEAccuracy(df, slope, intercept, xLabel, yLabel):\n",
    "    squared_errors = 0\n",
    "\n",
    "    for i in range(len(df[yLabel])):\n",
    "        dataY = df.iloc[i][yLabel]\n",
    "        dataX = df.iloc[i][xLabel]\n",
    "        prediction = getLinearPrediction(dataX, slope, intercept)\n",
    "\n",
    "        # Calculate squared error\n",
    "        squared_errors += (prediction - dataY)**2\n",
    "\n",
    "    # Calculate mean squared error\n",
    "    mean_squared_error = squared_errors / len(df[yLabel])\n",
    "\n",
    "    # Calculate root mean squared error\n",
    "    rmse = np.sqrt(mean_squared_error)\n",
    "\n",
    "    return rmse"
   ]
  },
  {
   "cell_type": "code",
   "execution_count": 6,
   "id": "f007e5d0",
   "metadata": {},
   "outputs": [
    {
     "name": "stdout",
     "output_type": "stream",
     "text": [
      "38.61854767108424\n"
     ]
    }
   ],
   "source": [
    "print(getRMSEAccuracy(df, 10000, 0, \"Years of Experience\", \"Salary\"))"
   ]
  },
  {
   "cell_type": "code",
   "execution_count": 7,
   "id": "46818016",
   "metadata": {},
   "outputs": [
    {
     "name": "stdout",
     "output_type": "stream",
     "text": [
      "57.17818943395612\n"
     ]
    }
   ],
   "source": [
    "print(getRMSEAccuracy(df, 7000, 40000, \"Years of Experience\", \"Salary\"))"
   ]
  },
  {
   "cell_type": "code",
   "execution_count": 10,
   "id": "586e153c",
   "metadata": {},
   "outputs": [],
   "source": [
    "def findOptimalLinearEquation(df, xLabel, yLabel, slope_range, intercept_range):\n",
    "    best_slope = None\n",
    "    best_intercept = None\n",
    "    best_accuracy = float('inf')  # Initialize with a high value\n",
    "\n",
    "    for slope in slope_range:\n",
    "        for intercept in intercept_range:\n",
    "            accuracy = getRMSEAccuracy(df, slope, intercept, xLabel, yLabel)\n",
    "\n",
    "            # Update the best values if the current accuracy is lower\n",
    "            if accuracy < best_accuracy:\n",
    "                best_slope = slope\n",
    "                best_intercept = intercept\n",
    "                best_accuracy = accuracy\n",
    "\n",
    "    return best_slope, best_intercept, best_accuracy\n",
    "\n"
   ]
  },
  {
   "cell_type": "code",
   "execution_count": 12,
   "id": "806832e5",
   "metadata": {},
   "outputs": [
    {
     "name": "stdout",
     "output_type": "stream",
     "text": [
      "Optimal Slope: 9200\n",
      "Optimal Intercept: 800\n",
      "Optimal RMSE Accuracy: 38.11712507166259\n"
     ]
    }
   ],
   "source": [
    "optimal_slope, optimal_intercept, optimal_accuracy = findOptimalLinearEquation(df, \"Years of Experience\", \"Salary\", np.arange(8000, 10000, 100), np.arange(800, 1200, 100))\n",
    "\n",
    "print(\"Optimal Slope:\", optimal_slope)\n",
    "print(\"Optimal Intercept:\", optimal_intercept)\n",
    "print(\"Optimal RMSE Accuracy:\", optimal_accuracy)"
   ]
  },
  {
   "cell_type": "code",
   "execution_count": 13,
   "id": "74dbdea3",
   "metadata": {},
   "outputs": [
    {
     "name": "stdout",
     "output_type": "stream",
     "text": [
      "Optimal Slope: 9240\n",
      "Optimal Intercept: 700\n",
      "Optimal RMSE Accuracy: 38.11027622951509\n"
     ]
    }
   ],
   "source": [
    "optimal_slope, optimal_intercept, optimal_accuracy = findOptimalLinearEquation(df, \"Years of Experience\", \"Salary\", np.arange(9100, 9300, 10), np.arange(700, 900, 10))\n",
    "\n",
    "print(\"Optimal Slope:\", optimal_slope)\n",
    "print(\"Optimal Intercept:\", optimal_intercept)\n",
    "print(\"Optimal RMSE Accuracy:\", optimal_accuracy)"
   ]
  },
  {
   "cell_type": "code",
   "execution_count": 14,
   "id": "f48da8df",
   "metadata": {},
   "outputs": [
    {
     "name": "stdout",
     "output_type": "stream",
     "text": [
      "Optimal Slope: 9243\n",
      "Optimal Intercept: 600\n",
      "Optimal RMSE Accuracy: 38.10674987805799\n"
     ]
    }
   ],
   "source": [
    "optimal_slope, optimal_intercept, optimal_accuracy = findOptimalLinearEquation(df, \"Years of Experience\", \"Salary\", np.arange(9230, 9250, 1), np.arange(600, 800, 10))\n",
    "\n",
    "print(\"Optimal Slope:\", optimal_slope)\n",
    "print(\"Optimal Intercept:\", optimal_intercept)\n",
    "print(\"Optimal RMSE Accuracy:\", optimal_accuracy)"
   ]
  },
  {
   "cell_type": "code",
   "execution_count": 16,
   "id": "9379624f",
   "metadata": {},
   "outputs": [
    {
     "name": "stdout",
     "output_type": "stream",
     "text": [
      "Optimal Slope: 9243.900000000007\n",
      "Optimal Intercept: 500\n",
      "Optimal RMSE Accuracy: 38.10444649589776\n"
     ]
    }
   ],
   "source": [
    "optimal_slope, optimal_intercept, optimal_accuracy = findOptimalLinearEquation(df, \"Years of Experience\", \"Salary\", np.arange(9242, 9244, 0.1), np.arange(500, 700, 10))\n",
    "\n",
    "print(\"Optimal Slope:\", optimal_slope)\n",
    "print(\"Optimal Intercept:\", optimal_intercept)\n",
    "print(\"Optimal RMSE Accuracy:\", optimal_accuracy)"
   ]
  },
  {
   "cell_type": "code",
   "execution_count": null,
   "id": "7f93e74b",
   "metadata": {},
   "outputs": [],
   "source": []
  }
 ],
 "metadata": {
  "kernelspec": {
   "display_name": "Python 3 (ipykernel)",
   "language": "python",
   "name": "python3"
  },
  "language_info": {
   "codemirror_mode": {
    "name": "ipython",
    "version": 3
   },
   "file_extension": ".py",
   "mimetype": "text/x-python",
   "name": "python",
   "nbconvert_exporter": "python",
   "pygments_lexer": "ipython3",
   "version": "3.9.13"
  }
 },
 "nbformat": 4,
 "nbformat_minor": 5
}
